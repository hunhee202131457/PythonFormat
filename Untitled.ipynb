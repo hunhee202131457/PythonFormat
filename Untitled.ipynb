{
 "cells": [
  {
   "cell_type": "code",
   "execution_count": null,
   "metadata": {},
   "outputs": [],
   "source": [
    "s = pd.Series([100,100,100,100,100,100,100,100,100,100,100,100,100,100,100] ,name='score')\n",
    "df = pd.DataFrame(s)\n",
    "df.index.name = 'number'\n",
    "df\n",
    "def get Grade(x):\n",
    "    grade = \"FFFFFFDCBAA\"\n",
    "    if x<0 or x>100 : return 'Error'\n",
    "    return grade [x//10]\n",
    "\n",
    "df['grade'] = df['score'].map(getGrade)\n",
    "df['grade'] = df['score'].map(lambda x : 'Error' if if x<0 or x>100 esle \"FFFFFFDCBAA\"grade [x//10])\n"
   ]
  }
 ],
 "metadata": {
  "kernelspec": {
   "display_name": "Python 3",
   "language": "python",
   "name": "python3"
  },
  "language_info": {
   "codemirror_mode": {
    "name": "ipython",
    "version": 3
   },
   "file_extension": ".py",
   "mimetype": "text/x-python",
   "name": "python",
   "nbconvert_exporter": "python",
   "pygments_lexer": "ipython3",
   "version": "3.8.5"
  }
 },
 "nbformat": 4,
 "nbformat_minor": 4
}
